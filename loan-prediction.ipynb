{
 "cells": [
  {
   "cell_type": "markdown",
   "metadata": {},
   "source": [
    "# Loan prediction analysis"
   ]
  },
  {
   "cell_type": "markdown",
   "metadata": {},
   "source": [
    "Predict the customers that are likely to get loans approved"
   ]
  },
  {
   "cell_type": "markdown",
   "metadata": {},
   "source": [
    "## Libraries and loading data"
   ]
  },
  {
   "cell_type": "markdown",
   "metadata": {},
   "source": [
    "from azureml.core import Workspace, ScriptRunConfig, Environment, Experiment\n",
    "from azureml.core.runconfig import MpiConfiguration\n",
    "\n",
    "# get workspace\n",
    "ws = Workspace.from_config()\n",
    "\n",
    "# get compute target\n",
    "target = ws.compute_targets['target-name']\n",
    "\n",
    "# get curated environment\n",
    "curated_env_name = 'AzureML-PyTorch-1.6-GPU'\n",
    "env = Environment.get(workspace=ws, name=curated_env_name)\n",
    "\n",
    "# get/create experiment\n",
    "exp = Experiment(ws, 'experiment_name')\n",
    "\n",
    "# distributed job configuration\n",
    "distributed_job_config = MpiConfiguration(process_count_per_node=4, node_count=2)\n",
    "\n",
    "# set up script run configuration\n",
    "config = ScriptRunConfig(\n",
    "    source_directory='.',\n",
    "    script='script.py',\n",
    "    compute_target=target,\n",
    "    environment=env,\n",
    "    distributed_job_config=distributed_job_config,\n",
    ")\n",
    "\n",
    "# submit script to AML\n",
    "run = exp.submit(config)\n",
    "print(run.get_portal_url()) # link to ml.azure.com\n",
    "run.wait_for_completion(show_output=True)"
   ]
  },
  {
   "cell_type": "code",
   "execution_count": 2,
   "metadata": {},
   "outputs": [],
   "source": [
    "import pandas as pd\n",
    "import seaborn as sns\n",
    "import numpy as num\n",
    "import matplotlib.pyplot as plt\n",
    "\n",
    "%matplotlib inline\n",
    "import warnings \n",
    "warnings.filterwarnings('ignore')"
   ]
  },
  {
   "cell_type": "code",
   "execution_count": 4,
   "metadata": {},
   "outputs": [],
   "source": [
    "test =  pd.read_csv('test.csv')\n",
    "train = pd.read_csv('train.csv')"
   ]
  },
  {
   "cell_type": "code",
   "execution_count": 5,
   "metadata": {},
   "outputs": [],
   "source": [
    "test_original = test.copy()\n",
    "train_original = train.copy()"
   ]
  }
 ],
 "metadata": {
  "interpreter": {
   "hash": "6ec48234dd43a886e6be86edfe3fa6ff37681289d7d6d30dc1d74cafdaa56f3f"
  },
  "kernelspec": {
   "display_name": "Python 3.9.7 ('base')",
   "language": "python",
   "name": "python3"
  },
  "language_info": {
   "codemirror_mode": {
    "name": "ipython",
    "version": 3
   },
   "file_extension": ".py",
   "mimetype": "text/x-python",
   "name": "python",
   "nbconvert_exporter": "python",
   "pygments_lexer": "ipython3",
   "version": "3.9.7"
  },
  "orig_nbformat": 4
 },
 "nbformat": 4,
 "nbformat_minor": 2
}
